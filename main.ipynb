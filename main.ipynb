{
 "cells": [
  {
   "cell_type": "code",
   "execution_count": null,
   "metadata": {},
   "outputs": [],
   "source": [
    "import pandas as pd\n",
    "import numpy as np\n",
    "import matplotlib.pyplot as plt\n",
    "import seaborn as sns"
   ]
  },
  {
   "cell_type": "code",
   "execution_count": null,
   "metadata": {},
   "outputs": [],
   "source": [
    "#read de files\n",
    "csv_2015_to_2022 = pd.read_csv('afa_2015_2022_spa.csv')\n",
    "csv_2015_to_2022.head()"
   ]
  },
  {
   "cell_type": "code",
   "execution_count": null,
   "metadata": {},
   "outputs": [],
   "source": [
    "# describe the csv_2015_to_2022\n",
    "describe = csv_2015_to_2022.describe() \n",
    "describe.loc['Nan'] = csv_2015_to_2022.isna().sum()\n",
    "describe.loc['%Nan'] = (csv_2015_to_2022.isna().mean())*100\n",
    "describe"
   ]
  },
  {
   "cell_type": "code",
   "execution_count": null,
   "metadata": {},
   "outputs": [],
   "source": [
    "df = pd.DataFrame(csv_2015_to_2022)\n",
    "df.columns.values"
   ]
  },
  {
   "cell_type": "code",
   "execution_count": null,
   "metadata": {},
   "outputs": [],
   "source": [
    "# Total of rows and columns to be analysed\n",
    "df.shape"
   ]
  },
  {
   "cell_type": "code",
   "execution_count": null,
   "metadata": {},
   "outputs": [],
   "source": [
    "# I keep only the columns that interest me\n",
    "df_copy_1 = df.drop(columns=['posesion_local','torneo', 'fecha', 'partido', 'fecha_encuentro',\n",
    "       'tiros_arco_local', 'intentos_local', 'faltas_local',\n",
    "       'tiro_esquina_local', 'posesion_visitante', 'tiros_arco_visitante',\n",
    "       'intentos_visitante', 'faltas_visitante', 'tiro_esquina_visitante',\n",
    "       'amarillas_local', 'amarillas_visitante', 'rojas_local',\n",
    "       'rojas_visitante', 'valor_mercado_local', 'altura_media_local',\n",
    "       'edad_media_local', 'proporcion_zurdos_local',\n",
    "       'valor_mercado_visitante', 'altura_media_visitante',\n",
    "       'edad_media_visitante', 'proporcion_zurdos_visitante', 'apuesta_local', 'apuesta_visitante',\n",
    "       'apuesta_empate'])\n",
    "\n",
    "# Crear una columna para indicar si el equipo ganó como local o visitante\n",
    "df_copy_1['ganador_local'] = df_copy_1['resultado'].apply(lambda x: x.startswith('L'))\n",
    "df_copy_1['ganador_visitante'] = df_copy_1['resultado'].apply(lambda x: x.startswith('V'))\n",
    "\n",
    "# Agrupar los datos por equipo y sumar los partidos ganados como local y visitante\n",
    "ganados_local = df_copy_1.groupby('equipo_local')['ganador_local'].sum()\n",
    "ganados_visitante = df_copy_1.groupby('equipo_visitante')['ganador_visitante'].sum()\n",
    "\n",
    "# Calcular el total de partidos jugados como local y visitante\n",
    "jugados_local = df_copy_1['equipo_local'].value_counts()\n",
    "jugados_visitante = df_copy_1['equipo_visitante'].value_counts()\n",
    "\n",
    "# Calcular el porcentaje de partidos ganados como local y visitante para cada equipo\n",
    "porcentaje_ganados_local = ganados_local / jugados_local * 100\n",
    "porcentaje_ganados_visitante = ganados_visitante / jugados_visitante * 100\n",
    "\n",
    "# Calcular el porcentaje total de partidos ganados por cada equipo\n",
    "partidos_ganados = ganados_local.add(ganados_visitante, fill_value=0)\n",
    "partidos_jugados = jugados_local.add(jugados_visitante, fill_value=0)\n",
    "porcentaje_ganados_total = partidos_ganados / partidos_jugados * 100\n",
    "\n",
    "# Unir los resultados en un único DataFrame\n",
    "porcentaje_ganados = pd.concat([porcentaje_ganados_local, porcentaje_ganados_visitante, porcentaje_ganados_total], axis=1)\n",
    "porcentaje_ganados.columns = ['Porcentaje de partidos ganados como local', 'Porcentaje de partidos ganados como visitante', 'Porcentaje de partidos ganados total']\n",
    "\n",
    "porcentaje_ganados"
   ]
  },
  {
   "cell_type": "code",
   "execution_count": null,
   "metadata": {},
   "outputs": [],
   "source": [
    "# Crear el gráfico de barras\n",
    "porcentaje_ganados.plot(kind='bar', figsize=(12,8))\n",
    "\n",
    "# Agregar título y etiquetas de los ejes\n",
    "plt.title('Porcentaje de partidos ganados')\n",
    "plt.xlabel('Equipo')\n",
    "plt.ylabel('Porcentaje')\n",
    "\n",
    "# Mostrar el gráfico\n",
    "plt.show()"
   ]
  },
  {
   "cell_type": "code",
   "execution_count": null,
   "metadata": {},
   "outputs": [],
   "source": [
    "# creo las columnas para indicar si el equipo perdió como local o visitante\n",
    "df_copy_1['perdedor_local'] = df_copy_1['resultado'].apply(lambda x: x.startswith('V'))\n",
    "df_copy_1['perdedor_visitante'] = df_copy_1['resultado'].apply(lambda x: x.startswith('L'))\n",
    "\n",
    "# agrupamos los datos por equipo y sumamos los partidos perdidos como local y visitante\n",
    "perdidos_local = df_copy_1.groupby('equipo_local')['perdedor_local'].sum()\n",
    "perdidos_visitante = df_copy_1.groupby('equipo_visitante')['perdedor_visitante'].sum()\n",
    "\n",
    "#calculo el total de partidos jugados como local y visitante\n",
    "jugados_local = df_copy_1['equipo_local'].value_counts()\n",
    "jugados_visitante = df_copy_1['equipo_visitante'].value_counts()\n",
    "\n",
    "#calculo el porcentaje total de partidos perdidos por cada equipo y uno todos los resultados en un único DataFrame\n",
    "porcentaje_perdidos_local = perdidos_local / jugados_local * 100\n",
    "porcentaje_perdidos_visitante = perdidos_visitante / jugados_visitante * 100\n",
    "partidos_perdidos = perdidos_local.add(perdidos_visitante, fill_value=0)\n",
    "porcentaje_perdidos_total = partidos_perdidos / partidos_jugados * 100\n",
    "\n",
    "porcentaje_perdidos = pd.concat([porcentaje_perdidos_local, porcentaje_perdidos_visitante, porcentaje_perdidos_total], axis=1)\n",
    "porcentaje_perdidos.columns = ['Porcentaje de partidos perdidos como local', 'Porcentaje de partidos perdidos como visitante', 'Porcentaje de partidos perdidos total']\n",
    "\n",
    "porcentaje_perdidos\n",
    "\n"
   ]
  },
  {
   "cell_type": "code",
   "execution_count": null,
   "metadata": {},
   "outputs": [],
   "source": [
    "# Crear el gráfico de barras\n",
    "porcentaje_perdidos.plot(kind='bar', figsize=(12,8))\n",
    "\n",
    "# Agregar título y etiquetas de los ejes\n",
    "plt.title('Porcentaje de partidos perdidos')\n",
    "plt.xlabel('Equipo')\n",
    "plt.ylabel('Porcentaje')\n",
    "\n",
    "# Mostrar el gráfico\n",
    "plt.show()"
   ]
  },
  {
   "cell_type": "code",
   "execution_count": null,
   "metadata": {},
   "outputs": [],
   "source": [
    "from sklearn.preprocessing import LabelEncoder"
   ]
  },
  {
   "cell_type": "code",
   "execution_count": null,
   "metadata": {},
   "outputs": [],
   "source": [
    "df_copy_2 = df_copy_1.copy()"
   ]
  },
  {
   "cell_type": "code",
   "execution_count": null,
   "metadata": {},
   "outputs": [],
   "source": [
    "df_copy_2['ganados'] = df_copy_2.apply(lambda x: x['equipo_local'] if x['resultado'].startswith('L') else x['equipo_visitante'], axis=1)\n",
    "ganados = pd.DataFrame({'ganados': df_copy_2['ganados'].value_counts()})\n",
    "#porcentaje_ganados = ganados['porcentaje_ganados'] = ganados['ganados%'] / (ganados['ganados%'].sum()) * 100\n",
    "ganados['porcentaje_ganados'] = ganados['ganados'] / ganados['ganados'].sum() * 100\n",
    "ganados"
   ]
  },
  {
   "cell_type": "code",
   "execution_count": null,
   "metadata": {},
   "outputs": [],
   "source": [
    "# I transform the \n",
    "le = LabelEncoder()\n",
    "data_copy['resultado_le'] = data_copy['resultado']\n",
    "label_encoding = le.fit_transform(data_copy['resultado_le'])\n",
    "data_copy['resultado_le'] = label_encoding\n",
    "data_copy.head(30)"
   ]
  },
  {
   "cell_type": "code",
   "execution_count": null,
   "metadata": {},
   "outputs": [],
   "source": [
    "le.classes_"
   ]
  },
  {
   "cell_type": "code",
   "execution_count": null,
   "metadata": {},
   "outputs": [],
   "source": [
    "data_copy['resultado'].value_counts()"
   ]
  },
  {
   "cell_type": "code",
   "execution_count": null,
   "metadata": {},
   "outputs": [],
   "source": [
    "fig = plt.figure(figsize=(16, 9))\n",
    "ax = fig.add_subplot()\n",
    "sns.boxplot(x=data_copy['porcentaje_ganados'], ax=ax)\n",
    "ax.grid('dashed')"
   ]
  },
  {
   "cell_type": "code",
   "execution_count": null,
   "metadata": {},
   "outputs": [],
   "source": [
    "# Save as afa_2015_2022_sorted.csv\n",
    "df_clean_one.to_csv(\"afa_2015_2022_sorted.csv\", index=False)"
   ]
  },
  {
   "cell_type": "code",
   "execution_count": null,
   "metadata": {},
   "outputs": [],
   "source": [
    "river_puntos = 0\n",
    "for i in df_clean_one.iloc:\n",
    "    if (i['torneo']=='Campeonato 2021'):\n",
    "        if ((i['equipo_visitante']=='River Plate') and (i['resultado']=='V')) or ((i['equipo_local']=='River Plate') and (i['resultado']=='L')):\n",
    "            river_puntos = river_puntos + 3\n",
    "        elif (i['equipo_visitante']=='River Plate' or i['equipo_local']=='River Plate' )and (i['resultado']=='E'):\n",
    "            river_puntos = river_puntos + 1\n",
    "river_puntos"
   ]
  },
  {
   "cell_type": "code",
   "execution_count": null,
   "metadata": {},
   "outputs": [],
   "source": [
    "partidos_jugados = 0\n",
    "torneos=[]\n",
    "boca_g=0\n",
    "boca_p=0\n",
    "empates=0\n",
    "for i in df_clean_one.iloc:\n",
    "    if ((i['equipo_visitante']=='Racing Club') and  (i['equipo_local']=='Estudiantes (LP)')) or ((i['equipo_visitante']=='Estudiantes (LP)') and  (i['equipo_local']=='Racing Club')):\n",
    "        if (i['resultado']=='V') and (i['equipo_visitante']=='Estudiantes (LP)'):\n",
    "            boca_g+=1\n",
    "        if (i['resultado']=='L') and (i['equipo_local']=='Estudiantes (LP)'):\n",
    "            boca_g+=1\n",
    "        if (i['resultado']=='E'): \n",
    "            empates+=1\n",
    "        partidos_jugados+=1    \n",
    "procentaje_g = boca_g/partidos_jugados\n",
    "procentaje_g\n",
    "partidos_jugados\n"
   ]
  },
  {
   "cell_type": "code",
   "execution_count": null,
   "metadata": {},
   "outputs": [],
   "source": [
    "def resultados_partidos (equipo, rival):\n",
    "    partidos_jugados = 0\n",
    "    ganados = 0\n",
    "    empates=0\n",
    "    \n",
    "    for i in df_clean_one.iloc:\n",
    "        if ((i['equipo_visitante']==equipo) and  (i['equipo_local']==rival)) or ((i['equipo_visitante']==rival) and  (i['equipo_local']==equipo)):\n",
    "            if (i['resultado']=='V') and (i['equipo_visitante']==equipo):\n",
    "                ganados+=1\n",
    "            if (i['resultado']=='L') and (i['equipo_local']==equipo):\n",
    "                ganados+=1\n",
    "            if (i['resultado']=='E'): \n",
    "                empates+=1\n",
    "            partidos_jugados+=1\n",
    "    perdidos = partidos_jugados - (ganados + empates)    \n",
    "    return ganados, perdidos, empates, partidos_jugados\n",
    "\n",
    "g,p,e,pj = resultados_partidos('Boca Juniors','River Plate')\n"
   ]
  },
  {
   "cell_type": "code",
   "execution_count": null,
   "metadata": {},
   "outputs": [],
   "source": [
    "river_l = 0\n",
    "river_v = 0\n",
    "river_e = 0\n",
    "for i in df_clean_one.iloc:\n",
    "    if (i['torneo']=='Campeonato 2021'):\n",
    "        if ((i['equipo_visitante']=='River Plate') and (i['resultado']=='V')) or ((i['equipo_local']=='River Plate') and (i['resultado']=='L')):\n",
    "            river_puntos = river_puntos + 3\n",
    "        elif (i['equipo_visitante']=='River Plate' or i['equipo_local']=='River Plate' )and (i['resultado']=='E'):\n",
    "            river_puntos = river_puntos + 1\n",
    "river_puntos"
   ]
  }
 ],
 "metadata": {
  "kernelspec": {
   "display_name": "Python 3",
   "language": "python",
   "name": "python3"
  },
  "language_info": {
   "codemirror_mode": {
    "name": "ipython",
    "version": 3
   },
   "file_extension": ".py",
   "mimetype": "text/x-python",
   "name": "python",
   "nbconvert_exporter": "python",
   "pygments_lexer": "ipython3",
   "version": "3.10.4"
  },
  "orig_nbformat": 4,
  "vscode": {
   "interpreter": {
    "hash": "afb734500600fd355917ca529030176ea0ca205570884b88f2f6f7d791fd3fbe"
   }
  }
 },
 "nbformat": 4,
 "nbformat_minor": 2
}
